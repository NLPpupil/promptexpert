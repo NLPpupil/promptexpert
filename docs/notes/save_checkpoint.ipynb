{
 "cells": [
  {
   "cell_type": "code",
   "execution_count": null,
   "id": "fe44ce34-3069-45ef-9f48-ead5d5cdf0e6",
   "metadata": {},
   "outputs": [],
   "source": [
    "param_grad_dic = {\n",
    "    k: v.requires_grad for (k, v) in model_no_ddp.named_parameters()\n",
    "}"
   ]
  },
  {
   "cell_type": "markdown",
   "id": "3a00cf85-54a9-4fc3-94b2-9062e9f470f3",
   "metadata": {},
   "source": [
    "创建一个字典 param_grad_dic，其中键是参数名，值是该参数是否需要计算梯度（requires_grad）。"
   ]
  },
  {
   "cell_type": "raw",
   "id": "5165e19e-c695-4157-a509-1e16b94bf902",
   "metadata": {},
   "source": []
  },
  {
   "cell_type": "code",
   "execution_count": null,
   "id": "7cae1ef5-3130-4d67-8cf8-21b71c4f63ef",
   "metadata": {},
   "outputs": [],
   "source": [
    "state_dict = model_no_ddp.state_dict()"
   ]
  },
  {
   "cell_type": "markdown",
   "id": "49dd42aa-ac7a-4a23-a7db-f538aad82227",
   "metadata": {},
   "source": [
    "state_dict状态字典包含所有模型参数和值。"
   ]
  },
  {
   "cell_type": "raw",
   "id": "2e1a5939-9dab-41ab-8c85-7f5f6ed412af",
   "metadata": {},
   "source": []
  },
  {
   "cell_type": "code",
   "execution_count": null,
   "id": "fbd88369-9057-4b67-a361-6417f28aaeda",
   "metadata": {},
   "outputs": [],
   "source": [
    "for k in list(state_dict.keys()):\n",
    "    if k in param_grad_dic.keys() and not param_grad_dic[k]:\n",
    "        del state_dict[k]"
   ]
  },
  {
   "cell_type": "markdown",
   "id": "c194c6d1-4832-4a8d-b802-4c49b54b183d",
   "metadata": {},
   "source": [
    "删除不需要梯度的参数。"
   ]
  }
 ],
 "metadata": {
  "kernelspec": {
   "display_name": "Python 3 (ipykernel)",
   "language": "python",
   "name": "python3"
  },
  "language_info": {
   "codemirror_mode": {
    "name": "ipython",
    "version": 3
   },
   "file_extension": ".py",
   "mimetype": "text/x-python",
   "name": "python",
   "nbconvert_exporter": "python",
   "pygments_lexer": "ipython3",
   "version": "3.10.8"
  }
 },
 "nbformat": 4,
 "nbformat_minor": 5
}
