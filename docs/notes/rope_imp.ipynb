{
 "cells": [
  {
   "cell_type": "code",
   "execution_count": null,
   "id": "0327518c-717e-45f5-92fe-2ed72bf0a0b4",
   "metadata": {},
   "outputs": [],
   "source": [
    "import math\n",
    "from typing import Tuple\n",
    "\n",
    "import torch\n",
    "import torch.nn.functional as F\n",
    "from torch import nn"
   ]
  },
  {
   "cell_type": "code",
   "execution_count": null,
   "id": "4d64c744-2e24-41b5-bf1f-048e5925bdfb",
   "metadata": {},
   "outputs": [],
   "source": [
    "def apply_scaling(freqs: torch.Tensor):\n",
    "    # Values obtained from grid search\n",
    "    scale_factor = 8\n",
    "    low_freq_factor = 1\n",
    "    high_freq_factor = 4\n",
    "    old_context_len = 8192  # original llama3 length\n",
    "\n",
    "    low_freq_wavelen = old_context_len / low_freq_factor\n",
    "    high_freq_wavelen = old_context_len / high_freq_factor\n",
    "    new_freqs = []\n",
    "    for freq in freqs:\n",
    "        wavelen = 2 * math.pi / freq\n",
    "        if wavelen < high_freq_wavelen:\n",
    "            new_freqs.append(freq)\n",
    "        elif wavelen > low_freq_wavelen:\n",
    "            new_freqs.append(freq / scale_factor)\n",
    "        else:\n",
    "            assert low_freq_wavelen != high_freq_wavelen\n",
    "            smooth = (old_context_len / wavelen - low_freq_factor) / (\n",
    "                high_freq_factor - low_freq_factor\n",
    "            )\n",
    "            new_freqs.append((1 - smooth) * freq / scale_factor + smooth * freq)\n",
    "    return torch.tensor(new_freqs, dtype=freqs.dtype, device=freqs.device)"
   ]
  },
  {
   "cell_type": "markdown",
   "id": "0d9a6cac-baa6-4ece-baad-e02b0bcab66f",
   "metadata": {},
   "source": [
    "这个函数对频率进行缩放，目的是对频率进行调整，使得它们在不同的范围内平滑过渡。这对于处理长序列时的频率调整非常有用。\n",
    "\n",
    "```\n",
    "scale_factor：缩放因子。\n",
    "low_freq_factor 和 high_freq_factor：用于计算频率的上下界。\n",
    "old_context_len：原始上下文长度。\n",
    "low_freq_wavelen 和 high_freq_wavelen：低频和高频的波长。\n",
    "函数通过一个平滑函数在上下界之间进行过渡，确保频率在不同范围内的平滑性。\n",
    "```"
   ]
  },
  {
   "cell_type": "raw",
   "id": "e8416321-afc8-413a-82bc-60639116524a",
   "metadata": {},
   "source": []
  },
  {
   "cell_type": "code",
   "execution_count": null,
   "id": "69cf4c77-4231-4aa8-b1cd-77d3df135473",
   "metadata": {},
   "outputs": [],
   "source": [
    "def precompute_freqs_cis(\n",
    "    dim: int, end: int, theta: float = 500000.0, use_scaled: bool = False\n",
    "):\n",
    "    freqs = 1.0 / (theta ** (torch.arange(0, dim, 2)[: (dim // 2)].float() / dim))\n",
    "    t = torch.arange(end, device=freqs.device, dtype=torch.float32)\n",
    "    if use_scaled:\n",
    "        freqs = apply_scaling(freqs)\n",
    "    freqs = torch.outer(t, freqs)\n",
    "    freqs_cis = torch.polar(torch.ones_like(freqs), freqs)  # complex64\n",
    "    return freqs_cis"
   ]
  },
  {
   "cell_type": "markdown",
   "id": "23c5068d-84ac-476c-a79a-0ce2a318c96d",
   "metadata": {},
   "source": [
    "这个函数预计算频率的复数表示。\n",
    "\n",
    "```\n",
    "dim：频率维度。是原论文中的theta\n",
    "end：时间步数长度，即序列的长度，最大token数。\n",
    "theta：控制频率的基数。是原论文中的10000。\n",
    "use_scaled：是否使用缩放。\n",
    "频率的计算方式是基于指数函数的，生成的频率通过torch.polar函数转成复数表示。\n",
    "```\n",
    "\n",
    "在这里，freqs对应原论文中的theta，而theta则对应原论文中的10000。这是需要注意的地方。\n",
    "\n",
    "cis是cosine和sine的缩写。具体来说，cis θ表示 cosθ + i*sinθ，其中 i 是虚数单位，θ是角度。这种表示方法在复数的极坐标形式中非常常见。\n",
    "\n",
    "t对应了原论文中的m。\n",
    "\n",
    "freqs = torch.outer(t, freqs)，将freqs通过外积计算，变成。new_freqs[i][j] = t[i]*freqs[j]。新的freqs矩阵在原论文中没有对应。\n",
    "\n",
    "torch.polar将极坐标形式的数值转换为复数。它接受两个参数：幅度和相位角，并返回一个复数张量。所以freqs_cis是幅度为1，相位角为freqs对应位置的复数张量。"
   ]
  },
  {
   "cell_type": "markdown",
   "id": "d664d8ac-3215-452c-831e-1d372de74790",
   "metadata": {},
   "source": [
    "过一个具体的例子来展示如何计算 `freqs_cis`。\n",
    "\n",
    "假设我们有以下参数：\n",
    "- `dim = 4`\n",
    "- `end = 3`\n",
    "- `theta = 10000.0`\n",
    "- `use_scaled = False`\n",
    "\n",
    "### 1. 计算频率 `freqs`\n",
    "\n",
    "首先，生成频率向量 `freqs`：\n",
    "\n",
    "dim = 4\n",
    "theta = 10000.0\n",
    "freqs = 1.0 / (theta ** (torch.arange(0, dim, 2)[: (dim // 2)].float() / dim))\n",
    "\n",
    "\n",
    "具体步骤如下：\n",
    "- `torch.arange(0, dim, 2)[: (dim // 2)]` 生成序列 `[0, 2]`。\n",
    "- `theta ** (torch.arange(0, dim, 2)[: (dim // 2)].float() / dim)` 计算：\n",
    "  - `theta ** (0 / 4) = 10000 ** 0 = 1.0`\n",
    "  - `theta ** (2 / 4) = 10000 ** 0.5 = 100.0`\n",
    "- 取倒数：\n",
    "  - `1.0 / 1.0 = 1.0`\n",
    "  - `1.0 / 100.0 = 0.01`\n",
    "  \n",
    "所以 `freqs` 为 `[1.0, 0.01]`。\n",
    "\n",
    "### 2. 生成时间步 `t`\n",
    "\n",
    "接下来生成时间步 `t`：\n",
    "\n",
    "end = 3\n",
    "t = torch.arange(end, device=freqs.device, dtype=torch.float32)\n",
    "\n",
    "\n",
    "- `torch.arange(end)` 生成序列 `[0, 1, 2]`。\n",
    "  \n",
    "所以 `t` 为 `[0, 1, 2]`。\n",
    "\n",
    "### 3. 计算外积 `freqs`\n",
    "\n",
    "计算时间步 `t` 和频率 `freqs` 的外积：\n",
    "\n",
    "freqs = torch.outer(t, freqs)\n",
    "\n",
    "\n",
    "具体计算如下：\n",
    "- `t` 为 `[0, 1, 2]`\n",
    "- `freqs` 为 `[1.0, 0.01]`\n",
    "- 外积结果为：\n",
    "  \n",
    "  [[0 * 1.0, 0 * 0.01],\n",
    "   [1 * 1.0, 1 * 0.01],\n",
    "   [2 * 1.0, 2 * 0.01]]\n",
    "  \n",
    "  即：\n",
    "  \n",
    "  [[0.0, 0.0],\n",
    "   [1.0, 0.01],\n",
    "   [2.0, 0.02]]\n",
    "  \n",
    "\n",
    "### 4. 生成复数表示 `freqs_cis`\n",
    "\n",
    "最后生成复数表示 `freqs_cis`：\n",
    "\n",
    "freqs_cis = torch.polar(torch.ones_like(freqs), freqs)  # complex64\n",
    "\n",
    "\n",
    "- `torch.ones_like(freqs)` 生成一个与 `freqs` 形状相同的全1张量：\n",
    "  \n",
    "  [[1.0, 1.0],\n",
    "   [1.0, 1.0],\n",
    "   [1.0, 1.0]]\n",
    "  \n",
    "- `torch.polar(torch.ones_like(freqs), freqs)` 将幅度为1，相位为 `freqs` 的复数表示出来：\n",
    "  - 对于 `freqs` 的每个元素，计算对应的复数：\n",
    "    - `cis(0.0) = cos(0.0) + i * sin(0.0) = 1.0 + 0.0i`\n",
    "    - `cis(0.0) = cos(0.0) + i * sin(0.0) = 1.0 + 0.0i`\n",
    "    - `cis(1.0) = cos(1.0) + i * sin(1.0) ≈ 0.5403 + 0.8415i`\n",
    "    - `cis(0.01) = cos(0.01) + i * sin(0.01) ≈ 0.99995 + 0.0099998i`\n",
    "    - `cis(2.0) = cos(2.0) + i * sin(2.0) ≈ -0.4161 + 0.9093i`\n",
    "    - `cis(0.02) = cos(0.02) + i * sin(0.02) ≈ 0.9998 + 0.0199987i`\n",
    "\n",
    "  所以 `freqs_cis` 为：\n",
    "  \n",
    "  [[1.0 + 0.0i,       1.0 + 0.0i],\n",
    "   [0.5403 + 0.8415i, 0.99995 + 0.0099998i],\n",
    "   [-0.4161 + 0.9093i, 0.9998 + 0.0199987i]]"
   ]
  },
  {
   "cell_type": "code",
   "execution_count": null,
   "id": "af6212eb-3a7a-4286-8d58-9997c369d0e4",
   "metadata": {},
   "outputs": [],
   "source": []
  },
  {
   "cell_type": "code",
   "execution_count": null,
   "id": "7221efb4-aa06-42bb-9eb7-c7f7f1686b6d",
   "metadata": {},
   "outputs": [],
   "source": [
    "def reshape_for_broadcast(freqs_cis: torch.Tensor, x: torch.Tensor):\n",
    "    ndim = x.ndim\n",
    "    assert 0 <= 1 < ndim\n",
    "    assert freqs_cis.shape == (x.shape[1], x.shape[-1])\n",
    "    shape = [d if i == 1 or i == ndim - 1 else 1 for i, d in enumerate(x.shape)]\n",
    "    return freqs_cis.view(*shape)"
   ]
  },
  {
   "cell_type": "raw",
   "id": "4c2b709a-1638-4eee-bdfa-e1b8cddfd7a3",
   "metadata": {},
   "source": [
    "这个函数将频率复数张量freqs_cis的形状调整为可以与输入张量x进行广播操作的形状。"
   ]
  },
  {
   "cell_type": "raw",
   "id": "acdf9920-cfef-4229-905a-f0c91529a16e",
   "metadata": {},
   "source": []
  },
  {
   "cell_type": "code",
   "execution_count": null,
   "id": "b4ab231a-c567-4b6b-a5dd-7a076302f133",
   "metadata": {},
   "outputs": [],
   "source": [
    "def apply_rotary_emb(\n",
    "    xq: torch.Tensor,\n",
    "    xk: torch.Tensor,\n",
    "    freqs_cis: torch.Tensor,\n",
    ") -> Tuple[torch.Tensor, torch.Tensor]:\n",
    "    xq_ = torch.view_as_complex(xq.float().reshape(*xq.shape[:-1], -1, 2))\n",
    "    xk_ = torch.view_as_complex(xk.float().reshape(*xk.shape[:-1], -1, 2))\n",
    "    freqs_cis = reshape_for_broadcast(freqs_cis, xq_)\n",
    "    xq_out = torch.view_as_real(xq_ * freqs_cis).flatten(3)\n",
    "    xk_out = torch.view_as_real(xk_ * freqs_cis).flatten(3)\n",
    "    return xq_out.type_as(xq), xk_out.type_as(xk)"
   ]
  },
  {
   "cell_type": "markdown",
   "id": "59958a8e-ba81-4725-b136-3f1cdf5a5f6e",
   "metadata": {},
   "source": [
    "这个函数将旋转位置编码应用于query和key张量。\n",
    "\n",
    "```\n",
    "xq和xk：q和k张量。\n",
    "freqs_cis：预计算的复数频率张量。\n",
    "```\n",
    "\n",
    "torch.view_as_complex 将一个实数张量视为复数张量，其形状最后一维的大小必须是2，这意味着该张量的最后一维包含了复数的实部和虚部。函数返回一个新的复数张量，其形状与输入张量的形状相同，除了最后一维的大小从2变为1。\n",
    "\n",
    "torch.view_as_real(xq_ * freqs_cis).flatten(3)则对应了截图中橙色叉下面的公式。"
   ]
  },
  {
   "cell_type": "raw",
   "id": "612fb92d-fb4a-4826-a109-a21f49729aff",
   "metadata": {},
   "source": []
  },
  {
   "cell_type": "code",
   "execution_count": null,
   "id": "85b8d8e5-0487-4582-bff0-d4d0425f9349",
   "metadata": {},
   "outputs": [],
   "source": [
    "xq, xk = apply_rotary_emb(xq, xk, freqs_cis=freqs_cis)"
   ]
  },
  {
   "cell_type": "raw",
   "id": "4e93e193-f8a5-459a-a44d-6565ffc048b1",
   "metadata": {},
   "source": [
    "应用rope。"
   ]
  }
 ],
 "metadata": {
  "kernelspec": {
   "display_name": "Python 3 (ipykernel)",
   "language": "python",
   "name": "python3"
  },
  "language_info": {
   "codemirror_mode": {
    "name": "ipython",
    "version": 3
   },
   "file_extension": ".py",
   "mimetype": "text/x-python",
   "name": "python",
   "nbconvert_exporter": "python",
   "pygments_lexer": "ipython3",
   "version": "3.10.8"
  }
 },
 "nbformat": 4,
 "nbformat_minor": 5
}
