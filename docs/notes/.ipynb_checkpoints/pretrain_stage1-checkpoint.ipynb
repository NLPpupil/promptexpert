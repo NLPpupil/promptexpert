{
 "cells": [
  {
   "cell_type": "code",
   "execution_count": null,
   "id": "cba2ee99-f930-48c0-a8b7-79dc8876afc3",
   "metadata": {},
   "outputs": [],
   "source": [
    "model:\n",
    "  arch: blip2"
   ]
  },
  {
   "cell_type": "markdown",
   "id": "c5d6f2c4-019a-46c7-85c5-1237e3fd05d2",
   "metadata": {},
   "source": [
    "模型结构是blip2。\n",
    "在 https://github.com/salesforce/LAVIS/blob/main/train.py#L94 的build_model方法，会根据arch得到模型类。\n",
    "\n",
    "build_model调用registry.get_model_class(model_config.arch), https://github.com/salesforce/LAVIS/blob/ac8fc98c93c02e2dfb727e24a361c4c309c8dbbc/lavis/tasks/base_task.py#L32\n",
    "\n",
    "blip2模型实际是Blip2Qformer， 定义于 https://github.com/salesforce/LAVIS/blob/ac8fc98c93c02e2dfb727e24a361c4c309c8dbbc/lavis/models/blip2_models/blip2_qformer.py#L25 "
   ]
  },
  {
   "cell_type": "raw",
   "id": "9b905999-ebaa-48cf-b990-6321b09eaf8a",
   "metadata": {},
   "source": []
  },
  {
   "cell_type": "code",
   "execution_count": null,
   "id": "796a203f-998a-4dbd-b6f1-8ae44f76d989",
   "metadata": {},
   "outputs": [],
   "source": [
    "model_type: pretrain"
   ]
  },
  {
   "cell_type": "markdown",
   "id": "36d05ff7-4772-43a6-98f4-38de9af81dd1",
   "metadata": {},
   "source": [
    "Each architecture has variants trained on different datasets and at different scale. 好像没什么实际作用。"
   ]
  },
  {
   "cell_type": "raw",
   "id": "9b79a370-3262-4755-910f-c2ad589bc800",
   "metadata": {},
   "source": []
  },
  {
   "cell_type": "code",
   "execution_count": null,
   "id": "11281184-e10f-4108-bc84-7af56ea873e8",
   "metadata": {},
   "outputs": [],
   "source": [
    "datasets:\n",
    "  coco_caption:\n",
    "    vis_processor:\n",
    "        train:\n",
    "          name: \"blip2_image_train\"\n",
    "          image_size: 224\n",
    "    text_processor:\n",
    "        train:\n",
    "          name: \"blip_caption\"        \n",
    "  vg_caption: # name of the dataset builder\n",
    "    vis_processor:\n",
    "        train:\n",
    "          name: \"blip_image_train\"\n",
    "          image_size: 224\n",
    "    text_processor:\n",
    "        train:\n",
    "          name: \"blip_caption\""
   ]
  },
  {
   "cell_type": "markdown",
   "id": "664de2a2-af46-4a7e-905a-aa168c2ca1af",
   "metadata": {},
   "source": [
    "训练所用的数据集。每个数据集，都会被管理到独有的处理类，加载成同一的形式。"
   ]
  },
  {
   "cell_type": "raw",
   "id": "54e7dba6-7cf0-4f94-a00b-903adb2a4fb4",
   "metadata": {},
   "source": []
  },
  {
   "cell_type": "code",
   "execution_count": null,
   "id": "6b207b02-52aa-485d-a1aa-297110ef2262",
   "metadata": {},
   "outputs": [],
   "source": [
    "run:\n",
    "  task: image_text_pretrain"
   ]
  },
  {
   "cell_type": "markdown",
   "id": "238db4cf-0533-46aa-9a5d-ce737baa6789",
   "metadata": {},
   "source": [
    "配置任务。每个任务都会关联到具体的任务类。\n",
    "\n",
    "image_text_pretrain任务定义于 https://github.com/salesforce/LAVIS/blob/ac8fc98c93c02e2dfb727e24a361c4c309c8dbbc/lavis/tasks/image_text_pretrain.py"
   ]
  }
 ],
 "metadata": {
  "kernelspec": {
   "display_name": "Python 3 (ipykernel)",
   "language": "python",
   "name": "python3"
  },
  "language_info": {
   "codemirror_mode": {
    "name": "ipython",
    "version": 3
   },
   "file_extension": ".py",
   "mimetype": "text/x-python",
   "name": "python",
   "nbconvert_exporter": "python",
   "pygments_lexer": "ipython3",
   "version": "3.10.8"
  }
 },
 "nbformat": 4,
 "nbformat_minor": 5
}
