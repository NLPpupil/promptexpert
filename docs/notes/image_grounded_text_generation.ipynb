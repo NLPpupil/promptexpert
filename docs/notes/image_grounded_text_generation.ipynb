{
 "cells": [
  {
   "cell_type": "code",
   "execution_count": null,
   "id": "3051da94-0270-40e2-b197-cde09695b771",
   "metadata": {},
   "outputs": [],
   "source": [
    "decoder_input_ids = text_tokens.input_ids.clone()\n",
    "decoder_input_ids[:, 0] = self.tokenizer.bos_token_id"
   ]
  },
  {
   "cell_type": "markdown",
   "id": "6a1e5457-1db9-4f76-a2ed-8127f0f5b255",
   "metadata": {},
   "source": [
    "所有句子（即每一行）的第一个token设置为bos_token_id，即[DEC]。"
   ]
  },
  {
   "cell_type": "raw",
   "id": "921d0e0b-2e1a-4401-8f4a-df978ca84cd8",
   "metadata": {},
   "source": []
  },
  {
   "cell_type": "code",
   "execution_count": null,
   "id": "a1b09179-6db8-4e3e-bea4-e114e8b6ce84",
   "metadata": {},
   "outputs": [],
   "source": [
    "labels = decoder_input_ids.masked_fill(\n",
    "    decoder_input_ids == self.tokenizer.pad_token_id, -100\n",
    ")"
   ]
  },
  {
   "cell_type": "markdown",
   "id": "b1ddfa30-5376-490e-95b7-6718ff12e71b",
   "metadata": {},
   "source": [
    "decoder_input_ids == self.tokenizer.pad_token_id，生成一个布尔张量，其形状与 decoder_input_ids 相同。\n",
    "在这个布尔张量中，所有等于 pad_token_id 的位置的值为 True，其他位置的值为 False。\n",
    "\n",
    "masked_fill 根据给定的条件将张量中的某些值替换为指定的值，在这里，pad的位置设为-100。这样做是为了在计算损失时忽略padding部分，-100是CrossEntropyLoss中的默认ignore_index。"
   ]
  },
  {
   "cell_type": "raw",
   "id": "9528544d-e160-4a8f-b15b-21cdc72d9a99",
   "metadata": {},
   "source": []
  },
  {
   "cell_type": "code",
   "execution_count": null,
   "id": "fdd8c005-fb5b-4fe2-8ffd-87bf03537a45",
   "metadata": {},
   "outputs": [],
   "source": [
    "query_atts = torch.ones(query_tokens.size()[:-1], dtype=torch.long).to(image.device)"
   ]
  },
  {
   "cell_type": "markdown",
   "id": "df559a37-da1a-4938-9b44-cb4677303dc8",
   "metadata": {},
   "source": [
    "query_token可以全部注意到。"
   ]
  },
  {
   "cell_type": "raw",
   "id": "b9812459-fec4-4a85-a788-51004263ec13",
   "metadata": {},
   "source": []
  },
  {
   "cell_type": "code",
   "execution_count": null,
   "id": "333feba3-6d35-4407-b6f1-28e0d1bb4c79",
   "metadata": {},
   "outputs": [],
   "source": [
    "attention_mask = torch.cat([query_atts, text_tokens.attention_mask], dim=1)\n"
   ]
  },
  {
   "cell_type": "markdown",
   "id": "fe6bc312-52d2-47cd-9b07-7c720a6061ff",
   "metadata": {},
   "source": [
    "合并mask。"
   ]
  },
  {
   "cell_type": "raw",
   "id": "f9e168de-3e12-4497-a3e1-7863b4a799b9",
   "metadata": {},
   "source": []
  },
  {
   "cell_type": "code",
   "execution_count": null,
   "id": "78f7905e-6bc0-4029-bfa5-6557aa0f774d",
   "metadata": {},
   "outputs": [],
   "source": [
    "lm_output = self.Qformer(\n",
    "    decoder_input_ids,\n",
    "    attention_mask=attention_mask,\n",
    "    past_key_values=query_output.past_key_values,\n",
    "    return_dict=True,\n",
    "    labels=labels,\n",
    ")\n",
    "\n",
    "loss_lm = lm_output.loss"
   ]
  },
  {
   "cell_type": "markdown",
   "id": "7ab5d53a-6ca7-4b11-a28f-18be6740c153",
   "metadata": {},
   "source": [
    "这里进行语言模型预测，计算语言模型损失。\n",
    "\n",
    "在其内部，进行了causal mask计算以及labels移位。causal mask使得解码时只能注意到已解码的词，labels移位使得每个位置的label都是它的下一个token。详细解释见附录。"
   ]
  }
 ],
 "metadata": {
  "kernelspec": {
   "display_name": "Python 3 (ipykernel)",
   "language": "python",
   "name": "python3"
  },
  "language_info": {
   "codemirror_mode": {
    "name": "ipython",
    "version": 3
   },
   "file_extension": ".py",
   "mimetype": "text/x-python",
   "name": "python",
   "nbconvert_exporter": "python",
   "pygments_lexer": "ipython3",
   "version": "3.10.8"
  }
 },
 "nbformat": 4,
 "nbformat_minor": 5
}
